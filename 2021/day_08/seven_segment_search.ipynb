{
 "cells": [
  {
   "cell_type": "markdown",
   "metadata": {},
   "source": [
    "# Imports"
   ]
  },
  {
   "cell_type": "code",
   "execution_count": null,
   "metadata": {},
   "outputs": [],
   "source": [
    "from typing import List, Dict, Set"
   ]
  },
  {
   "cell_type": "markdown",
   "metadata": {},
   "source": [
    "# Input"
   ]
  },
  {
   "cell_type": "code",
   "execution_count": null,
   "metadata": {},
   "outputs": [],
   "source": [
    "with open(\"input.txt\", \"r\") as fb:\n",
    "    data = fb.read()\n",
    "    displays = [display.split(\"|\") for display in data.splitlines()]\n",
    "    displays = [[item.strip().split(\" \") for item in display] for display in displays]"
   ]
  },
  {
   "cell_type": "markdown",
   "metadata": {},
   "source": [
    "# Variables"
   ]
  },
  {
   "cell_type": "code",
   "execution_count": null,
   "metadata": {},
   "outputs": [],
   "source": [
    "segments_to_digit_mapping = {\n",
    "    \"abcefg\": 0,\n",
    "    \"cf\": 1,\n",
    "    \"acdeg\": 2,\n",
    "    \"acdfg\": 3,\n",
    "    \"bcdf\": 4,\n",
    "    \"abdfg\": 5,\n",
    "    \"abdefg\": 6,\n",
    "    \"acf\": 7,\n",
    "    \"abcdefg\": 8,\n",
    "    \"abcdfg\": 9\n",
    "}"
   ]
  },
  {
   "cell_type": "markdown",
   "metadata": {},
   "source": [
    "# Functions"
   ]
  },
  {
   "cell_type": "code",
   "execution_count": null,
   "metadata": {},
   "outputs": [],
   "source": [
    "def collect_wiring_counts(signal_patterns: List[str]) -> Dict[int, Dict[str, int]]:\n",
    "    wiring_counts = {}\n",
    "    for signal_pattern in signal_patterns:\n",
    "        n = len(signal_pattern)\n",
    "        for s in signal_pattern:\n",
    "            wiring_counts.setdefault(n, {})\n",
    "            wiring_counts[n][s] = wiring_counts[n].get(s, 0) + 1\n",
    "\n",
    "    return wiring_counts"
   ]
  },
  {
   "cell_type": "code",
   "execution_count": null,
   "metadata": {},
   "outputs": [],
   "source": [
    "def query_wiring_counts(wiring_counts: Dict[int, Dict[str, int]], signal_length: int, signal_count: int) -> Set[str]:\n",
    "    return set(signal for signal, count in wiring_counts[signal_length].items() if count == signal_count)"
   ]
  },
  {
   "cell_type": "markdown",
   "metadata": {},
   "source": [
    "# Solution 1"
   ]
  },
  {
   "cell_type": "code",
   "execution_count": null,
   "metadata": {},
   "outputs": [],
   "source": [
    "count = 0\n",
    "for display in displays:\n",
    "    signals, output = display\n",
    "    for o in output:\n",
    "        if len(o) in [2, 3, 4, 7]:\n",
    "            count += 1"
   ]
  },
  {
   "cell_type": "code",
   "execution_count": null,
   "metadata": {},
   "outputs": [],
   "source": [
    "count"
   ]
  },
  {
   "cell_type": "markdown",
   "metadata": {},
   "source": [
    "# Solution 2"
   ]
  },
  {
   "cell_type": "markdown",
   "metadata": {},
   "source": [
    "## Exploration"
   ]
  },
  {
   "cell_type": "code",
   "execution_count": null,
   "metadata": {},
   "outputs": [],
   "source": [
    "wiring_counts = collect_wiring_counts(segments_to_digit_mapping.keys())\n",
    "for n, info in sorted(wiring_counts.items()):\n",
    "    print(n)\n",
    "    print(sorted(info.items(), key=lambda x: (x[1], x[0])))\n",
    "    print(\"------------\")"
   ]
  },
  {
   "cell_type": "code",
   "execution_count": null,
   "metadata": {},
   "outputs": [],
   "source": [
    "# Segment a: len 3 - len 2\n",
    "# Segment b: len 5 : count 1 & len 6 : count 3\n",
    "# Segment c: len 5 : count 2 & len 6 : count 2\n",
    "# Segment d: len 5 : count 3 & len 6 : count 2\n",
    "# Segment e: len 5 : count 1 & len 6 : count 2\n",
    "# Segment f: len 5 : count 2 & len 6 : count 3\n",
    "# Segment g: remainder"
   ]
  },
  {
   "cell_type": "markdown",
   "metadata": {},
   "source": [
    "## Solution"
   ]
  },
  {
   "cell_type": "code",
   "execution_count": null,
   "metadata": {},
   "outputs": [],
   "source": [
    "def get_wiring(signal_patterns):\n",
    "    wiring_counts = collect_wiring_counts(signal_patterns)\n",
    "\n",
    "    a, = set(wiring_counts[3].keys()) - set(wiring_counts[2].keys())\n",
    "    b, = query_wiring_counts(wiring_counts, 5, 1) & query_wiring_counts(wiring_counts, 6, 3)\n",
    "    c, = query_wiring_counts(wiring_counts, 5, 2) & query_wiring_counts(wiring_counts, 6, 2)\n",
    "    d, = query_wiring_counts(wiring_counts, 5, 3) & query_wiring_counts(wiring_counts, 6, 2)\n",
    "    e, = query_wiring_counts(wiring_counts, 5, 1) & query_wiring_counts(wiring_counts, 6, 2)\n",
    "    f, = query_wiring_counts(wiring_counts, 5, 2) & query_wiring_counts(wiring_counts, 6, 3)\n",
    "    g, = set(\"abcdefg\") - set([a, b, c, d, e, f])\n",
    "\n",
    "    return {\n",
    "        a: \"a\",\n",
    "        b: \"b\",\n",
    "        c: \"c\",\n",
    "        d: \"d\",\n",
    "        e: \"e\",\n",
    "        f: \"f\",\n",
    "        g: \"g\"\n",
    "    }"
   ]
  },
  {
   "cell_type": "code",
   "execution_count": null,
   "metadata": {},
   "outputs": [],
   "source": [
    "def decode_output(signal_patterns: List[str], output: List[str]) -> int:\n",
    "    wiring = get_wiring(signal_patterns)\n",
    "    decoded = []\n",
    "    for signal_pattern in output:\n",
    "        segments = \"\".join(sorted(wiring[s] for s in signal_pattern))\n",
    "        digit = segments_to_digit_mapping[segments]\n",
    "        decoded.append(str(digit))\n",
    "    return int(\"\".join(decoded))"
   ]
  },
  {
   "cell_type": "code",
   "execution_count": null,
   "metadata": {},
   "outputs": [],
   "source": [
    "result = 0\n",
    "for display in displays:\n",
    "    signal_patterns, output = display\n",
    "    decoded_output = decode_output(signal_patterns, output)\n",
    "    result += decoded_output"
   ]
  },
  {
   "cell_type": "code",
   "execution_count": null,
   "metadata": {},
   "outputs": [],
   "source": [
    "result"
   ]
  }
 ],
 "metadata": {
  "kernelspec": {
   "display_name": "Python 3.10.2 ('.venv': venv)",
   "language": "python",
   "name": "python3"
  },
  "language_info": {
   "codemirror_mode": {
    "name": "ipython",
    "version": 3
   },
   "file_extension": ".py",
   "mimetype": "text/x-python",
   "name": "python",
   "nbconvert_exporter": "python",
   "pygments_lexer": "ipython3",
   "version": "3.10.2"
  },
  "orig_nbformat": 4,
  "vscode": {
   "interpreter": {
    "hash": "724981badb0a4de16b25c830c861b7694fe027bd927209b078d090af3921a624"
   }
  }
 },
 "nbformat": 4,
 "nbformat_minor": 2
}
