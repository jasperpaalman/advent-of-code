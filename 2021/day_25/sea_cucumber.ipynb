{
 "cells": [
  {
   "cell_type": "code",
   "execution_count": null,
   "metadata": {},
   "outputs": [],
   "source": [
    "from copy import deepcopy\n",
    "import numpy as np\n",
    "from enum import Enum"
   ]
  },
  {
   "cell_type": "markdown",
   "metadata": {},
   "source": [
    "# Assignment 1"
   ]
  },
  {
   "cell_type": "code",
   "execution_count": null,
   "metadata": {},
   "outputs": [],
   "source": [
    "def read_input() -> np.array:\n",
    "    with open(\"input.txt\", \"r\") as fb:\n",
    "        input_data = fb.read()\n",
    "    input_lines = input_data.splitlines()\n",
    "    input_grid = [list(line) for line in input_lines]\n",
    "    return np.array(input_grid)"
   ]
  },
  {
   "cell_type": "code",
   "execution_count": null,
   "metadata": {},
   "outputs": [],
   "source": [
    "class SeaCucumber(str, Enum):\n",
    "    EAST = \">\"\n",
    "    SOUTH = \"v\""
   ]
  },
  {
   "cell_type": "code",
   "execution_count": null,
   "metadata": {},
   "outputs": [],
   "source": [
    "def get_neighbor_position(situation, i, j):\n",
    "    n_rows, n_cols = situation.shape\n",
    "    value = situation[i][j]\n",
    "\n",
    "    if value == SeaCucumber.EAST:\n",
    "        if j == n_cols - 1:\n",
    "            return (i, 0)\n",
    "        else:\n",
    "            return (i, j+1)\n",
    "    elif value == SeaCucumber.SOUTH:\n",
    "        if i == n_rows - 1:\n",
    "            return (0, j)\n",
    "        else:\n",
    "            return (i+1, j)\n",
    "    else:\n",
    "        return None"
   ]
  },
  {
   "cell_type": "code",
   "execution_count": null,
   "metadata": {},
   "outputs": [],
   "source": [
    "def next_step(situation):\n",
    "    # Dimensions\n",
    "    n_rows, n_cols = situation.shape\n",
    "    \n",
    "    # East swimming\n",
    "    east_swimming_indices = [\n",
    "        [i,j] for i in range(n_rows) for j in range(n_cols) if situation[i][j] == SeaCucumber.EAST\n",
    "    ]\n",
    "\n",
    "    next_1 = deepcopy(situation)\n",
    "    for i, j in east_swimming_indices:\n",
    "        i_n, j_n = get_neighbor_position(situation, i, j)\n",
    "        v_n = situation[i_n][j_n]\n",
    "        if v_n == \".\":\n",
    "            next_1[i_n][j_n] = SeaCucumber.EAST.value\n",
    "            next_1[i][j] = \".\"\n",
    "\n",
    "    # South swimming\n",
    "    south_swimming_indices = [\n",
    "        [i,j] for i in range(n_rows) for j in range(n_cols) if next_1[i][j] == SeaCucumber.SOUTH\n",
    "    ]\n",
    "\n",
    "    next_2 = deepcopy(next_1)\n",
    "    for i, j in south_swimming_indices:\n",
    "        i_n, j_n = get_neighbor_position(next_1, i, j)\n",
    "        v_n = next_1[i_n][j_n]\n",
    "        if v_n == \".\":\n",
    "            next_2[i_n][j_n] = SeaCucumber.SOUTH.value\n",
    "            next_2[i][j] = \".\"\n",
    "            \n",
    "    return next_2"
   ]
  },
  {
   "cell_type": "code",
   "execution_count": null,
   "metadata": {},
   "outputs": [],
   "source": [
    "def solution_1(situation):\n",
    "    current = situation\n",
    "    count = 0\n",
    "    while True:\n",
    "        count += 1\n",
    "        # Get next step\n",
    "        next = next_step(current)\n",
    "        # If equal break\n",
    "        if (current == next).all():\n",
    "            break\n",
    "        # Update current\n",
    "        current = deepcopy(next)\n",
    "    return count"
   ]
  },
  {
   "cell_type": "code",
   "execution_count": null,
   "metadata": {},
   "outputs": [],
   "source": [
    "input_grid = read_input()"
   ]
  },
  {
   "cell_type": "code",
   "execution_count": null,
   "metadata": {},
   "outputs": [],
   "source": [
    "solution_1(input_grid)"
   ]
  }
 ],
 "metadata": {
  "kernelspec": {
   "display_name": "Python 3.9.0 64-bit",
   "language": "python",
   "name": "python3"
  },
  "language_info": {
   "codemirror_mode": {
    "name": "ipython",
    "version": 3
   },
   "file_extension": ".py",
   "mimetype": "text/x-python",
   "name": "python",
   "nbconvert_exporter": "python",
   "pygments_lexer": "ipython3",
   "version": "3.9.0"
  },
  "orig_nbformat": 4,
  "vscode": {
   "interpreter": {
    "hash": "a4147a3ae19008e22a774dc89326ea6cb81f356868fba00292ce10f90072a1c7"
   }
  }
 },
 "nbformat": 4,
 "nbformat_minor": 2
}
