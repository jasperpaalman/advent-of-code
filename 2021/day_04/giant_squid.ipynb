{
 "cells": [
  {
   "cell_type": "markdown",
   "metadata": {},
   "source": [
    "# Imports"
   ]
  },
  {
   "cell_type": "code",
   "execution_count": null,
   "metadata": {},
   "outputs": [],
   "source": [
    "import numpy as np"
   ]
  },
  {
   "cell_type": "markdown",
   "metadata": {},
   "source": [
    "# Variables"
   ]
  },
  {
   "cell_type": "code",
   "execution_count": null,
   "metadata": {},
   "outputs": [],
   "source": [
    "dim = 5"
   ]
  },
  {
   "cell_type": "markdown",
   "metadata": {},
   "source": [
    "# Input"
   ]
  },
  {
   "cell_type": "code",
   "execution_count": null,
   "metadata": {},
   "outputs": [],
   "source": [
    "with open(\"input.txt\", \"r\") as fb:\n",
    "    data = fb.read()\n",
    "    data_split = data.split(\"\\n\\n\")\n",
    "\n",
    "    steps = data_split[0]\n",
    "    cards = data_split[1:]\n",
    "    \n",
    "    steps = [int(item) for item in steps.split(\",\")]\n",
    "    cards = [card.split(\"\\n\") for card in cards]\n",
    "    cards = [[[int(item) for item in line.split()] for line in card] for card in cards]"
   ]
  },
  {
   "cell_type": "markdown",
   "metadata": {},
   "source": [
    "# Solution"
   ]
  },
  {
   "cell_type": "code",
   "execution_count": null,
   "metadata": {},
   "outputs": [],
   "source": [
    "cards_flat = [[item for row in card for item in row] for card in cards]\n",
    "marks = [np.zeros((dim, dim)) for _ in cards]\n",
    "wins = {}\n",
    "win_count = 0\n",
    "\n",
    "for step in steps:\n",
    "    for n, card_flat in enumerate(cards_flat):\n",
    "        if step in card_flat:\n",
    "            ix = card_flat.index(step)\n",
    "\n",
    "            i = ix // dim\n",
    "            j = ix % dim\n",
    "\n",
    "            marks[n][i][j] = 1\n",
    "        \n",
    "        col_complete = any(marks[n].sum(axis=0) == dim)\n",
    "        row_complete = any(marks[n].sum(axis=1) == dim)\n",
    "\n",
    "        if col_complete or row_complete:\n",
    "            mask = marks[n].flatten().astype(bool)\n",
    "            unmarked_numbers_sum = sum(np.array(card_flat)[~mask])\n",
    "            score = unmarked_numbers_sum * step\n",
    "\n",
    "            wins.setdefault(n, {\"win_count\": win_count, \"score\": score})\n",
    "            win_count += 1"
   ]
  },
  {
   "cell_type": "code",
   "execution_count": null,
   "metadata": {},
   "outputs": [],
   "source": [
    "first_win = min(wins.items(), key=lambda x: x[1][\"win_count\"])[1][\"score\"]\n",
    "last_win = max(wins.items(), key=lambda x: x[1][\"win_count\"])[1][\"score\"]"
   ]
  },
  {
   "cell_type": "code",
   "execution_count": null,
   "metadata": {},
   "outputs": [],
   "source": [
    "first_win"
   ]
  },
  {
   "cell_type": "code",
   "execution_count": null,
   "metadata": {},
   "outputs": [],
   "source": [
    "last_win"
   ]
  }
 ],
 "metadata": {
  "kernelspec": {
   "display_name": "Python 3.10.2 ('.venv': venv)",
   "language": "python",
   "name": "python3"
  },
  "language_info": {
   "codemirror_mode": {
    "name": "ipython",
    "version": 3
   },
   "file_extension": ".py",
   "mimetype": "text/x-python",
   "name": "python",
   "nbconvert_exporter": "python",
   "pygments_lexer": "ipython3",
   "version": "3.10.2"
  },
  "orig_nbformat": 4,
  "vscode": {
   "interpreter": {
    "hash": "724981badb0a4de16b25c830c861b7694fe027bd927209b078d090af3921a624"
   }
  }
 },
 "nbformat": 4,
 "nbformat_minor": 2
}
