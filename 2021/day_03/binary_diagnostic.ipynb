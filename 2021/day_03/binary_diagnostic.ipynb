{
 "cells": [
  {
   "cell_type": "markdown",
   "metadata": {},
   "source": [
    "# Imports"
   ]
  },
  {
   "cell_type": "code",
   "execution_count": null,
   "metadata": {},
   "outputs": [],
   "source": [
    "from collections import Counter\n",
    "import pandas as pd"
   ]
  },
  {
   "cell_type": "markdown",
   "metadata": {},
   "source": [
    "# Input"
   ]
  },
  {
   "cell_type": "code",
   "execution_count": null,
   "metadata": {},
   "outputs": [],
   "source": [
    "with open(\"input.txt\", \"r\") as fb:\n",
    "    data = fb.read()\n",
    "    lines = data.splitlines()"
   ]
  },
  {
   "cell_type": "markdown",
   "metadata": {},
   "source": [
    "# Solution 1"
   ]
  },
  {
   "cell_type": "code",
   "execution_count": null,
   "metadata": {},
   "outputs": [],
   "source": [
    "bit_collections = zip(*lines)\n",
    "bit_counts = [Counter(collection) for collection in bit_collections]"
   ]
  },
  {
   "cell_type": "code",
   "execution_count": null,
   "metadata": {},
   "outputs": [],
   "source": [
    "gamma_rate = \"\".join([max(counts.items(), key=lambda x: x[1])[0] for counts in bit_counts])\n",
    "epsilon_rate = \"\".join([min(counts.items(), key=lambda x: x[1])[0] for counts in bit_counts])"
   ]
  },
  {
   "cell_type": "code",
   "execution_count": null,
   "metadata": {},
   "outputs": [],
   "source": [
    "int(gamma_rate, 2) * int(epsilon_rate, 2)"
   ]
  },
  {
   "cell_type": "markdown",
   "metadata": {},
   "source": [
    "# Solution 2"
   ]
  },
  {
   "cell_type": "code",
   "execution_count": null,
   "metadata": {},
   "outputs": [],
   "source": [
    "lines_df = pd.DataFrame([list(line) for line in lines])\n",
    "for i in range(lines_df.shape[1]):\n",
    "    counts = lines_df[i].value_counts()\n",
    "    most_common_bit = counts.sort_index(ascending=False).idxmax()\n",
    "    mask = (lines_df[i] == most_common_bit)\n",
    "    lines_df = lines_df[mask]\n",
    "    if lines_df.shape[0] == 1:\n",
    "        oxygen_generator_rating = \"\".join(lines_df.iloc[0])\n",
    "        print(f\"Oxygen generator rating: {oxygen_generator_rating}\")\n",
    "        break"
   ]
  },
  {
   "cell_type": "code",
   "execution_count": null,
   "metadata": {},
   "outputs": [],
   "source": [
    "lines_df = pd.DataFrame([list(line) for line in lines])\n",
    "for i in range(lines_df.shape[1]):\n",
    "    counts = lines_df[i].value_counts()\n",
    "    least_common_bit = counts.sort_index(ascending=True).idxmin()\n",
    "    mask = (lines_df[i] == least_common_bit)\n",
    "    lines_df = lines_df[mask]\n",
    "    if lines_df.shape[0] == 1:\n",
    "        co2_scubber_rating = \"\".join(lines_df.iloc[0])\n",
    "        print(f\"CO2 scrubber rating: {co2_scubber_rating}\")\n",
    "        break"
   ]
  },
  {
   "cell_type": "code",
   "execution_count": null,
   "metadata": {},
   "outputs": [],
   "source": [
    "int(oxygen_generator_rating, 2) * int(co2_scubber_rating, 2)"
   ]
  }
 ],
 "metadata": {
  "kernelspec": {
   "display_name": "Python 3.10.2 ('.venv': venv)",
   "language": "python",
   "name": "python3"
  },
  "language_info": {
   "codemirror_mode": {
    "name": "ipython",
    "version": 3
   },
   "file_extension": ".py",
   "mimetype": "text/x-python",
   "name": "python",
   "nbconvert_exporter": "python",
   "pygments_lexer": "ipython3",
   "version": "3.10.2"
  },
  "orig_nbformat": 4,
  "vscode": {
   "interpreter": {
    "hash": "724981badb0a4de16b25c830c861b7694fe027bd927209b078d090af3921a624"
   }
  }
 },
 "nbformat": 4,
 "nbformat_minor": 2
}
