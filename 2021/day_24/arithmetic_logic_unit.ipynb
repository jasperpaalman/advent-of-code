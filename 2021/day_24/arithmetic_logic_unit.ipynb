{
 "cells": [
  {
   "cell_type": "markdown",
   "metadata": {},
   "source": [
    "# Imports"
   ]
  },
  {
   "cell_type": "code",
   "execution_count": 3,
   "metadata": {},
   "outputs": [],
   "source": [
    "import random\n",
    "from typing import List, Optional\n",
    "from itertools import zip_longest"
   ]
  },
  {
   "cell_type": "markdown",
   "metadata": {},
   "source": [
    "# Solution 1"
   ]
  },
  {
   "cell_type": "code",
   "execution_count": 4,
   "metadata": {},
   "outputs": [],
   "source": [
    "class Alu:\n",
    "    def __init__(self) -> None:\n",
    "        self.reset()\n",
    "        self.monad = self.load_monad()\n",
    "        self.monad_phases = self.split_monad(self.monad)\n",
    "\n",
    "    @staticmethod\n",
    "    def load_monad() -> List[List[str]]:\n",
    "        with open(\"input.txt\", \"r\") as fb:\n",
    "            input_data = fb.read()\n",
    "        return [line.split() for line in input_data.splitlines()]\n",
    "        \n",
    "    @staticmethod\n",
    "    def split_monad(monad: List[List[str]]) -> List[List[List[str]]]:\n",
    "        inp_indices = [n for n, instruction in enumerate(monad) if instruction[0] == \"inp\"]\n",
    "        phases = [monad[start:end] for start, end in zip_longest(inp_indices, inp_indices[1:])]\n",
    "        return phases\n",
    "\n",
    "    def reset(self) -> None:\n",
    "        self.w = 0\n",
    "        self.x = 0\n",
    "        self.y = 0\n",
    "        self.z = 0\n",
    "        self.phase = 0\n",
    "        self.history = []\n",
    "\n",
    "    @staticmethod\n",
    "    def add(a: int, b: int) -> int:\n",
    "        return a + b\n",
    "\n",
    "    @staticmethod\n",
    "    def mul(a: int, b: int) -> int:\n",
    "        return a * b\n",
    "\n",
    "    @staticmethod\n",
    "    def div(a: int, b: int) -> int:\n",
    "        return a // b\n",
    "\n",
    "    @staticmethod\n",
    "    def mod(a: int, b: int) -> int:\n",
    "        return a % b\n",
    "\n",
    "    @staticmethod\n",
    "    def eql(a: int, b: int) -> int:\n",
    "        return 1 if a == b else 0\n",
    "\n",
    "    def _process_instruction(self, operation: str, attr: str, value: Optional[str] = None) -> None:\n",
    "        a = getattr(self, attr)\n",
    "        \n",
    "        # Get new attribute value\n",
    "        if not value:\n",
    "            # 'inp' operation\n",
    "            b = None\n",
    "            new_val = int(self.model_number.pop(0))\n",
    "            self.phase += 1\n",
    "        else:\n",
    "            # other operations\n",
    "            b = getattr(self, value) if value.isalpha() else int(value)\n",
    "            new_val = getattr(self, operation)(a, b)\n",
    "\n",
    "        # Set attribute with new value\n",
    "        setattr(self, attr, new_val)\n",
    "        \n",
    "        # Update history\n",
    "        self.history.append({\n",
    "            \"phase\": self.phase,\n",
    "            \"instruction\": (operation, attr, value),\n",
    "            \"a\": a,\n",
    "            \"b\": b,\n",
    "            \"start\": a,\n",
    "            \"end\": new_val\n",
    "        })\n",
    "\n",
    "    def run_monad(self, model_number: int) -> bool:\n",
    "        # Reset all attributes\n",
    "        self.reset()\n",
    "\n",
    "        # Split and check model number\n",
    "        self.model_number = [int(i) for i in str(model_number)]\n",
    "        if 0 in self.model_number or len(self.model_number) != 14:\n",
    "            return False\n",
    "        \n",
    "        # Run MONAD instructions\n",
    "        for instruction in self.monad:\n",
    "            self._process_instruction(*instruction)\n",
    "\n",
    "        # Final check\n",
    "        return True if self.z == 0 else False\n",
    "\n",
    "    def run_random_simulation(self, start_range=11111111111111, end_range=99999999999999, k=1e5, interval=1e4):\n",
    "        results = {}\n",
    "        cache = set()\n",
    "        count = 0\n",
    "        while count < k:\n",
    "            count += 1\n",
    "            if count % interval == 0 and results:\n",
    "                print(f\"Count: {count}\")\n",
    "                lowest_z = min(results.keys())\n",
    "                print(f\"Lowest z: {lowest_z}\")\n",
    "                print(f\"Based on model numbers: {results[lowest_z]}\")\n",
    "            while True:\n",
    "                val = random.choice(range(start_range, end_range))\n",
    "                if val not in cache and \"0\" not in str(val):\n",
    "                    valid = self.run_monad(val)\n",
    "                    results.setdefault(self.z, set()).add(val)\n",
    "                    cache.add(val)\n",
    "                    if valid:\n",
    "                        print(val)\n",
    "                        print(\"VALID\")\n",
    "                        break"
   ]
  },
  {
   "cell_type": "code",
   "execution_count": 5,
   "metadata": {},
   "outputs": [],
   "source": [
    "alu = Alu()"
   ]
  },
  {
   "cell_type": "code",
   "execution_count": null,
   "metadata": {},
   "outputs": [],
   "source": [
    "# (12137644217562, 350)\n",
    "# (12516993815781, 350)\n",
    "# (12998933147125, 350)\n",
    "# (13748646417232, 351)\n",
    "# (15532993921891, 353)\n",
    "# (16226693179454, 354)\n",
    "# (22226984246274, 376)\n",
    "# (22548595352561, 376)\n",
    "# (26237775326788, 381)\n",
    "# (28126639715174, 382)\n",
    "# (67915882321126, 483)\n",
    "# (72848593585344, 506)\n",
    "# (86863793296564, 536)"
   ]
  }
 ],
 "metadata": {
  "kernelspec": {
   "display_name": "Python 3.10.2 ('.venv': venv)",
   "language": "python",
   "name": "python3"
  },
  "language_info": {
   "codemirror_mode": {
    "name": "ipython",
    "version": 3
   },
   "file_extension": ".py",
   "mimetype": "text/x-python",
   "name": "python",
   "nbconvert_exporter": "python",
   "pygments_lexer": "ipython3",
   "version": "3.10.2"
  },
  "orig_nbformat": 4,
  "vscode": {
   "interpreter": {
    "hash": "724981badb0a4de16b25c830c861b7694fe027bd927209b078d090af3921a624"
   }
  }
 },
 "nbformat": 4,
 "nbformat_minor": 2
}
