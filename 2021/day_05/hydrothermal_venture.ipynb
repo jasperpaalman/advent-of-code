{
 "cells": [
  {
   "cell_type": "markdown",
   "metadata": {},
   "source": [
    "# Imports"
   ]
  },
  {
   "cell_type": "code",
   "execution_count": null,
   "metadata": {},
   "outputs": [],
   "source": [
    "import numpy as np"
   ]
  },
  {
   "cell_type": "markdown",
   "metadata": {},
   "source": [
    "# Input"
   ]
  },
  {
   "cell_type": "code",
   "execution_count": null,
   "metadata": {},
   "outputs": [],
   "source": [
    "with open(\"input.txt\", \"r\") as fb:\n",
    "    data = fb.read()\n",
    "    lines = data.splitlines()\n",
    "    lines = [line.split(\" -> \") for line in lines]\n",
    "    lines = [[coords.split(\",\") for coords in line] for line in lines]\n",
    "    lines = [[[int(item) for item in coords] for coords in line] for line in lines]"
   ]
  },
  {
   "cell_type": "code",
   "execution_count": null,
   "metadata": {},
   "outputs": [],
   "source": [
    "straight_lines = []\n",
    "for line in lines:\n",
    "    (x1, y1), (x2, y2) = line\n",
    "    if x1 == x2 or y1 == y2:\n",
    "        straight_lines.append(line)"
   ]
  },
  {
   "cell_type": "markdown",
   "metadata": {},
   "source": [
    "# Functions"
   ]
  },
  {
   "cell_type": "code",
   "execution_count": null,
   "metadata": {},
   "outputs": [],
   "source": [
    "def range_with_stop(start, stop, step=1):\n",
    "    if start > stop:\n",
    "        return reversed(range(stop, start + step, step))\n",
    "    return range(start, stop + step, step)"
   ]
  },
  {
   "cell_type": "markdown",
   "metadata": {},
   "source": [
    "# Variables"
   ]
  },
  {
   "cell_type": "code",
   "execution_count": null,
   "metadata": {},
   "outputs": [],
   "source": [
    "dim = 1000"
   ]
  },
  {
   "cell_type": "markdown",
   "metadata": {},
   "source": [
    "# Solution 1"
   ]
  },
  {
   "cell_type": "code",
   "execution_count": null,
   "metadata": {},
   "outputs": [],
   "source": [
    "grid = np.zeros((dim, dim))\n",
    "for line in straight_lines:\n",
    "    (x1, y1), (x2, y2) = line\n",
    "    if x1 == x2:\n",
    "        x = x1\n",
    "        y_indices = range_with_stop(y1, y2)\n",
    "        for y in y_indices:\n",
    "            grid[y][x] += 1\n",
    "    if y1 == y2:\n",
    "        y = y1\n",
    "        x_indices = range_with_stop(x1, x2)\n",
    "        for x in x_indices:\n",
    "            grid[y][x] += 1"
   ]
  },
  {
   "cell_type": "code",
   "execution_count": null,
   "metadata": {},
   "outputs": [],
   "source": [
    "(grid >= 2).sum()"
   ]
  },
  {
   "cell_type": "markdown",
   "metadata": {},
   "source": [
    "# Solution 2"
   ]
  },
  {
   "cell_type": "code",
   "execution_count": null,
   "metadata": {},
   "outputs": [],
   "source": [
    "grid = np.zeros((dim, dim))\n",
    "for line in lines:\n",
    "    (x1, y1), (x2, y2) = line\n",
    "\n",
    "    # vertical line\n",
    "    if x1 == x2:\n",
    "        x = x1\n",
    "        y_indices = range_with_stop(y1, y2)\n",
    "        for y in y_indices:\n",
    "            grid[y][x] += 1\n",
    "\n",
    "    # horizontal line\n",
    "    elif y1 == y2:\n",
    "        y = y1\n",
    "        x_indices = range_with_stop(x1, x2)\n",
    "        for x in x_indices:\n",
    "            grid[y][x] += 1\n",
    "\n",
    "    # diagonal line\n",
    "    else:\n",
    "        x_indices = range_with_stop(x1, x2)\n",
    "        y_indices = range_with_stop(y1, y2)\n",
    "\n",
    "        for x, y in zip(x_indices, y_indices):\n",
    "            grid[y][x] += 1"
   ]
  },
  {
   "cell_type": "code",
   "execution_count": null,
   "metadata": {},
   "outputs": [],
   "source": [
    "(grid >= 2).sum()"
   ]
  }
 ],
 "metadata": {
  "kernelspec": {
   "display_name": "Python 3.10.2 ('.venv': venv)",
   "language": "python",
   "name": "python3"
  },
  "language_info": {
   "codemirror_mode": {
    "name": "ipython",
    "version": 3
   },
   "file_extension": ".py",
   "mimetype": "text/x-python",
   "name": "python",
   "nbconvert_exporter": "python",
   "pygments_lexer": "ipython3",
   "version": "3.10.2"
  },
  "orig_nbformat": 4,
  "vscode": {
   "interpreter": {
    "hash": "724981badb0a4de16b25c830c861b7694fe027bd927209b078d090af3921a624"
   }
  }
 },
 "nbformat": 4,
 "nbformat_minor": 2
}
