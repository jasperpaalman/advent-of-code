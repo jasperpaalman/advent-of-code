{
 "cells": [
  {
   "attachments": {},
   "cell_type": "markdown",
   "metadata": {},
   "source": [
    "# Imports"
   ]
  },
  {
   "cell_type": "code",
   "execution_count": null,
   "metadata": {},
   "outputs": [],
   "source": [
    "from copy import deepcopy\n",
    "from functools import reduce\n",
    "import math"
   ]
  },
  {
   "attachments": {},
   "cell_type": "markdown",
   "metadata": {},
   "source": [
    "# Input"
   ]
  },
  {
   "cell_type": "code",
   "execution_count": null,
   "metadata": {},
   "outputs": [],
   "source": [
    "class Monkey:\n",
    "    def __init__(self, items, operation, divisor, test_true, test_false, n_inspections = 0) -> None:\n",
    "        self.items = items\n",
    "        self.operation = operation\n",
    "        self.divisor = divisor\n",
    "        self.test_true = test_true\n",
    "        self.test_false = test_false\n",
    "        self.n_inspections = n_inspections"
   ]
  },
  {
   "cell_type": "code",
   "execution_count": null,
   "metadata": {},
   "outputs": [],
   "source": [
    "monkeys = [\n",
    "    Monkey(\n",
    "        items = [54, 53],\n",
    "        operation = lambda x: x * 3,\n",
    "        divisor = 2,\n",
    "        test_true = 2,\n",
    "        test_false = 6\n",
    "    ),\n",
    "    Monkey(\n",
    "        items = [95, 88, 75, 81, 91, 67, 65, 84],\n",
    "        operation = lambda x: x * 11,\n",
    "        divisor = 7,\n",
    "        test_true = 3,\n",
    "        test_false = 4\n",
    "    ),\n",
    "    Monkey(\n",
    "        items = [76, 81, 50, 93, 96, 81, 83],\n",
    "        operation = lambda x: x + 6,\n",
    "        divisor = 3,\n",
    "        test_true = 5,\n",
    "        test_false = 1\n",
    "    ),\n",
    "    Monkey(\n",
    "        items = [83, 85, 85, 63],\n",
    "        operation = lambda x: x + 4,\n",
    "        divisor = 11,\n",
    "        test_true = 7,\n",
    "        test_false = 4\n",
    "    ),\n",
    "    Monkey(\n",
    "        items = [85, 52, 64],\n",
    "        operation = lambda x: x + 8,\n",
    "        divisor = 17,\n",
    "        test_true = 0,\n",
    "        test_false = 7\n",
    "    ),\n",
    "    Monkey(\n",
    "        items = [57],\n",
    "        operation = lambda x: x + 2,\n",
    "        divisor = 5,\n",
    "        test_true = 1,\n",
    "        test_false = 3\n",
    "    ),\n",
    "    Monkey(\n",
    "        items = [60, 95, 76, 66, 91],\n",
    "        operation = lambda x: x * x,\n",
    "        divisor = 13,\n",
    "        test_true = 2,\n",
    "        test_false = 5\n",
    "    ),\n",
    "    Monkey(\n",
    "        items = [65, 84, 76, 72, 79, 65],\n",
    "        operation = lambda x: x + 5,\n",
    "        divisor = 19,\n",
    "        test_true = 6,\n",
    "        test_false = 0\n",
    "    )\n",
    "]"
   ]
  },
  {
   "attachments": {},
   "cell_type": "markdown",
   "metadata": {},
   "source": [
    "# Solution 1"
   ]
  },
  {
   "cell_type": "code",
   "execution_count": null,
   "metadata": {},
   "outputs": [],
   "source": [
    "def simulate_monkey_business(monkeys_start, n_rounds, worry_floor_division=True):\n",
    "    monkeys = deepcopy(monkeys_start)\n",
    "    LCM = math.lcm(*[monkey.divisor for monkey in monkeys])  # least common multiple \n",
    "\n",
    "    for round in range(n_rounds):\n",
    "        for n, monkey in enumerate(monkeys):\n",
    "            while True:\n",
    "                try:\n",
    "                    item = monkey.items.pop(0)\n",
    "                except IndexError:\n",
    "                    break\n",
    "                monkey.n_inspections += 1\n",
    "                worry_level = monkey.operation(item)\n",
    "                if worry_floor_division:\n",
    "                    worry_level = worry_level // 3\n",
    "                else:\n",
    "                    worry_level = worry_level % LCM\n",
    "                pass_to_monkey = monkey.test_false if worry_level % monkey.divisor else monkey.test_true\n",
    "                monkeys[pass_to_monkey].items.append(worry_level)\n",
    "\n",
    "    monkey_business = reduce(lambda x1, x2: x1.n_inspections * x2.n_inspections, \n",
    "        sorted(monkeys, key=lambda x: x.n_inspections, reverse=True)[:2])\n",
    "\n",
    "    return monkey_business"
   ]
  },
  {
   "cell_type": "code",
   "execution_count": null,
   "metadata": {},
   "outputs": [],
   "source": [
    "simulate_monkey_business(monkeys, 20)"
   ]
  },
  {
   "attachments": {},
   "cell_type": "markdown",
   "metadata": {},
   "source": [
    "# Test"
   ]
  },
  {
   "cell_type": "code",
   "execution_count": null,
   "metadata": {},
   "outputs": [],
   "source": [
    "test_monkeys = [\n",
    "    Monkey(\n",
    "        items = [79, 98],\n",
    "        operation = lambda x: x * 19,\n",
    "        divisor = 23,\n",
    "        test_true = 2,\n",
    "        test_false = 3\n",
    "    ),\n",
    "    Monkey(\n",
    "        items = [54, 65, 75, 74],\n",
    "        operation = lambda x: x + 6,\n",
    "        divisor = 19,\n",
    "        test_true = 2,\n",
    "        test_false = 0\n",
    "    ),\n",
    "    Monkey(\n",
    "        items = [79, 60, 97],\n",
    "        operation = lambda x: x * x,\n",
    "        divisor = 13,\n",
    "        test_true = 1,\n",
    "        test_false = 3\n",
    "    ),\n",
    "    Monkey(\n",
    "        items = [74],\n",
    "        operation = lambda x: x + 3,\n",
    "        divisor = 17,\n",
    "        test_true = 0,\n",
    "        test_false = 1\n",
    "    ),\n",
    "]"
   ]
  },
  {
   "cell_type": "code",
   "execution_count": null,
   "metadata": {},
   "outputs": [],
   "source": [
    "simulate_monkey_business(test_monkeys, 20)"
   ]
  },
  {
   "cell_type": "code",
   "execution_count": null,
   "metadata": {},
   "outputs": [],
   "source": [
    "simulate_monkey_business(test_monkeys, 10000, worry_floor_division=False)"
   ]
  },
  {
   "attachments": {},
   "cell_type": "markdown",
   "metadata": {},
   "source": [
    "# Solution 2"
   ]
  },
  {
   "cell_type": "code",
   "execution_count": null,
   "metadata": {},
   "outputs": [],
   "source": [
    "simulate_monkey_business(monkeys, 10000, worry_floor_division=False)"
   ]
  }
 ],
 "metadata": {
  "kernelspec": {
   "display_name": ".venv",
   "language": "python",
   "name": "python3"
  },
  "language_info": {
   "codemirror_mode": {
    "name": "ipython",
    "version": 3
   },
   "file_extension": ".py",
   "mimetype": "text/x-python",
   "name": "python",
   "nbconvert_exporter": "python",
   "pygments_lexer": "ipython3",
   "version": "3.10.2"
  },
  "orig_nbformat": 4,
  "vscode": {
   "interpreter": {
    "hash": "724981badb0a4de16b25c830c861b7694fe027bd927209b078d090af3921a624"
   }
  }
 },
 "nbformat": 4,
 "nbformat_minor": 2
}
