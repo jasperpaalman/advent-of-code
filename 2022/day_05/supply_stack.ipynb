{
 "cells": [
  {
   "cell_type": "markdown",
   "metadata": {},
   "source": [
    "# Imports"
   ]
  },
  {
   "cell_type": "code",
   "execution_count": null,
   "metadata": {},
   "outputs": [],
   "source": [
    "import re\n",
    "from copy import deepcopy"
   ]
  },
  {
   "cell_type": "markdown",
   "metadata": {},
   "source": [
    "# Input"
   ]
  },
  {
   "cell_type": "code",
   "execution_count": null,
   "metadata": {},
   "outputs": [],
   "source": [
    "stacks = [\n",
    "    [\"S\", \"C\", \"V\", \"N\"],\n",
    "    [\"Z\", \"M\", \"J\", \"H\", \"N\", \"S\"],\n",
    "    [\"M\", \"C\", \"T\", \"G\", \"J\", \"N\", \"D\"],\n",
    "    [\"T\", \"D\", \"F\", \"J\", \"W\", \"R\", \"M\"],\n",
    "    [\"P\", \"F\", \"H\"],\n",
    "    [\"C\", \"T\", \"Z\", \"H\", \"J\"],\n",
    "    [\"D\", \"P\", \"R\", \"Q\", \"F\", \"S\", \"L\", \"Z\"],\n",
    "    [\"C\", \"S\", \"L\", \"H\", \"D\", \"F\", \"P\", \"W\"],\n",
    "    [\"D\", \"S\", \"M\", \"P\", \"F\", \"N\", \"G\", \"Z\"]\n",
    "]"
   ]
  },
  {
   "cell_type": "code",
   "execution_count": null,
   "metadata": {},
   "outputs": [],
   "source": [
    "with open(\"input.txt\", \"r\") as fb:\n",
    "    data = fb.read()\n",
    "    instructions = data.splitlines()\n",
    "    instructions = [list(map(int, re.findall(r\"\\d+\", instruction))) for instruction in instructions]"
   ]
  },
  {
   "cell_type": "markdown",
   "metadata": {},
   "source": [
    "# Solution 1"
   ]
  },
  {
   "cell_type": "code",
   "execution_count": null,
   "metadata": {},
   "outputs": [],
   "source": [
    "stacks1 = deepcopy(stacks)\n",
    "for instruction in instructions:\n",
    "    size, source_ix, target_ix = instruction\n",
    "    for _ in range(size):\n",
    "        item = stacks1[source_ix - 1].pop()\n",
    "        stacks1[target_ix - 1].append(item)"
   ]
  },
  {
   "cell_type": "code",
   "execution_count": null,
   "metadata": {},
   "outputs": [],
   "source": [
    "\"\".join([s[-1] for s in stacks1])"
   ]
  },
  {
   "cell_type": "markdown",
   "metadata": {},
   "source": [
    "# Solution 2"
   ]
  },
  {
   "cell_type": "code",
   "execution_count": null,
   "metadata": {},
   "outputs": [],
   "source": [
    "stacks2 = deepcopy(stacks)\n",
    "for instruction in instructions:\n",
    "    size, source_ix, target_ix = instruction\n",
    "    items = [stacks2[source_ix - 1].pop() for _ in range(size)]\n",
    "    stacks2[target_ix - 1].extend(list(reversed(items)))"
   ]
  },
  {
   "cell_type": "code",
   "execution_count": null,
   "metadata": {},
   "outputs": [],
   "source": [
    "\"\".join([s[-1] for s in stacks2])"
   ]
  }
 ],
 "metadata": {
  "kernelspec": {
   "display_name": "Python 3.10.6 64-bit",
   "language": "python",
   "name": "python3"
  },
  "language_info": {
   "codemirror_mode": {
    "name": "ipython",
    "version": 3
   },
   "file_extension": ".py",
   "mimetype": "text/x-python",
   "name": "python",
   "nbconvert_exporter": "python",
   "pygments_lexer": "ipython3",
   "version": "3.10.6"
  },
  "orig_nbformat": 4,
  "vscode": {
   "interpreter": {
    "hash": "916dbcbb3f70747c44a77c7bcd40155683ae19c65e1c03b4aa3499c5328201f1"
   }
  }
 },
 "nbformat": 4,
 "nbformat_minor": 2
}
