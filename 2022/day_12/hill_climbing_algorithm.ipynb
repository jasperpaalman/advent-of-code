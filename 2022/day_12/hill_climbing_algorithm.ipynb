{
 "cells": [
  {
   "attachments": {},
   "cell_type": "markdown",
   "metadata": {},
   "source": [
    "# Imports"
   ]
  },
  {
   "cell_type": "code",
   "execution_count": null,
   "metadata": {},
   "outputs": [],
   "source": [
    "import numpy as np\n",
    "import string"
   ]
  },
  {
   "attachments": {},
   "cell_type": "markdown",
   "metadata": {},
   "source": [
    "# Input"
   ]
  },
  {
   "cell_type": "code",
   "execution_count": null,
   "metadata": {},
   "outputs": [],
   "source": [
    "def load_input(input_path):\n",
    "    with open(input_path, \"r\") as fb:\n",
    "        data = fb.read()\n",
    "    grid = np.array([list(line) for line in data.splitlines()])\n",
    "    return grid"
   ]
  },
  {
   "cell_type": "code",
   "execution_count": null,
   "metadata": {},
   "outputs": [],
   "source": [
    "grid = load_input(\"input.txt\")\n",
    "test_grid = load_input(\"test.txt\")"
   ]
  },
  {
   "attachments": {},
   "cell_type": "markdown",
   "metadata": {},
   "source": [
    "# Globals"
   ]
  },
  {
   "cell_type": "code",
   "execution_count": null,
   "metadata": {},
   "outputs": [],
   "source": [
    "letter_to_elevation = {letter: n for n, letter in enumerate(string.ascii_lowercase)}\n",
    "letter_to_elevation[\"S\"] = 0\n",
    "letter_to_elevation[\"E\"] = 25"
   ]
  },
  {
   "attachments": {},
   "cell_type": "markdown",
   "metadata": {},
   "source": [
    "# Functions"
   ]
  },
  {
   "cell_type": "code",
   "execution_count": null,
   "metadata": {},
   "outputs": [],
   "source": [
    "def get_surrounding_points(target_point):\n",
    "    return [\n",
    "        (target_point[0], target_point[1] - 1),\n",
    "        (target_point[0], target_point[1] + 1),\n",
    "        (target_point[0] - 1, target_point[1]),\n",
    "        (target_point[0] + 1, target_point[1])\n",
    "    ]    "
   ]
  },
  {
   "cell_type": "code",
   "execution_count": null,
   "metadata": {},
   "outputs": [],
   "source": [
    "def traverse_path(grid, target_point, paths=None, current_path=None):\n",
    "\n",
    "    # Initialize\n",
    "    if not paths:\n",
    "        paths = {}\n",
    "    if not current_path:\n",
    "        current_path = [target_point]\n",
    "\n",
    "    # Get target comparison information\n",
    "    target_letter = grid[target_point]\n",
    "    target_elevation = letter_to_elevation[target_letter]\n",
    "\n",
    "    # Iterate over surrounding points\n",
    "    surrounding_points = get_surrounding_points(target_point)\n",
    "    for source_point in surrounding_points:\n",
    "        # Ignore out of bounds coordinates\n",
    "        if any(map(lambda x: x < 0, source_point)):\n",
    "            continue\n",
    "\n",
    "        try:\n",
    "            source_letter = grid[source_point]\n",
    "        except IndexError:\n",
    "            continue\n",
    "\n",
    "        # Get elevation\n",
    "        source_elevation = letter_to_elevation[source_letter]\n",
    "        if target_elevation > source_elevation + 1:\n",
    "            # Ignore if the elevation difference is too high\n",
    "            continue\n",
    "\n",
    "        # Construct and save path\n",
    "        registered_path = paths.get(source_point)\n",
    "        improved_path = registered_path and len(current_path) < len(registered_path)\n",
    "        no_path = not registered_path\n",
    "        if improved_path or no_path:\n",
    "            paths[source_point] = current_path\n",
    "            # Continue traversal through recursion\n",
    "            traverse_path(grid, source_point, paths, [source_point] + current_path)\n",
    "\n",
    "    return paths"
   ]
  },
  {
   "cell_type": "code",
   "execution_count": null,
   "metadata": {},
   "outputs": [],
   "source": [
    "def get_letter_coords(grid, letter):\n",
    "    for coords in map(tuple, np.argwhere(grid == letter)):\n",
    "        yield coords"
   ]
  },
  {
   "attachments": {},
   "cell_type": "markdown",
   "metadata": {},
   "source": [
    "# Test"
   ]
  },
  {
   "cell_type": "code",
   "execution_count": null,
   "metadata": {},
   "outputs": [],
   "source": [
    "test_paths = traverse_path(\n",
    "    grid=test_grid, \n",
    "    target_point=next(get_letter_coords(test_grid, \"E\"))\n",
    ")"
   ]
  },
  {
   "cell_type": "code",
   "execution_count": null,
   "metadata": {},
   "outputs": [],
   "source": [
    "starting_point = next(get_letter_coords(test_grid, \"S\"))\n",
    "len(test_paths[starting_point])"
   ]
  },
  {
   "attachments": {},
   "cell_type": "markdown",
   "metadata": {},
   "source": [
    "# Solution 1"
   ]
  },
  {
   "cell_type": "code",
   "execution_count": null,
   "metadata": {},
   "outputs": [],
   "source": [
    "paths = traverse_path(\n",
    "    grid=grid, \n",
    "    target_point=next(get_letter_coords(grid, \"E\"))\n",
    ")"
   ]
  },
  {
   "cell_type": "code",
   "execution_count": null,
   "metadata": {},
   "outputs": [],
   "source": [
    "starting_point = next(get_letter_coords(grid, \"S\"))\n",
    "len(paths[starting_point])"
   ]
  },
  {
   "attachments": {},
   "cell_type": "markdown",
   "metadata": {},
   "source": [
    "# Solution 2"
   ]
  },
  {
   "cell_type": "code",
   "execution_count": null,
   "metadata": {},
   "outputs": [],
   "source": [
    "a_coords = get_letter_coords(grid, \"a\")"
   ]
  },
  {
   "cell_type": "code",
   "execution_count": null,
   "metadata": {},
   "outputs": [],
   "source": [
    "solution2 = 999\n",
    "for coords in a_coords:\n",
    "    path = paths.get(coords)\n",
    "    if path:\n",
    "        path_len = len(path)\n",
    "        if path_len < solution2:\n",
    "            solution2 = path_len"
   ]
  },
  {
   "cell_type": "code",
   "execution_count": null,
   "metadata": {},
   "outputs": [],
   "source": [
    "solution2"
   ]
  }
 ],
 "metadata": {
  "kernelspec": {
   "display_name": ".venv",
   "language": "python",
   "name": "python3"
  },
  "language_info": {
   "codemirror_mode": {
    "name": "ipython",
    "version": 3
   },
   "file_extension": ".py",
   "mimetype": "text/x-python",
   "name": "python",
   "nbconvert_exporter": "python",
   "pygments_lexer": "ipython3",
   "version": "3.10.2"
  },
  "orig_nbformat": 4,
  "vscode": {
   "interpreter": {
    "hash": "724981badb0a4de16b25c830c861b7694fe027bd927209b078d090af3921a624"
   }
  }
 },
 "nbformat": 4,
 "nbformat_minor": 2
}
