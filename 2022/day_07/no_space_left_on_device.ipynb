{
 "cells": [
  {
   "cell_type": "markdown",
   "metadata": {},
   "source": [
    "# Imports"
   ]
  },
  {
   "cell_type": "markdown",
   "metadata": {},
   "source": [
    "# Input"
   ]
  },
  {
   "cell_type": "code",
   "execution_count": null,
   "metadata": {},
   "outputs": [],
   "source": [
    "with open(\"input.txt\", \"r\") as fb:\n",
    "    data = fb.read()\n",
    "    steps = [step.strip().split(\"\\n\") for step in data.split(\"$\") if step != \"\"]"
   ]
  },
  {
   "cell_type": "markdown",
   "metadata": {},
   "source": [
    "# General"
   ]
  },
  {
   "cell_type": "markdown",
   "metadata": {},
   "source": [
    "# Solution 1"
   ]
  },
  {
   "cell_type": "code",
   "execution_count": null,
   "metadata": {},
   "outputs": [],
   "source": [
    "file_system = {}\n",
    "current_path = []\n",
    "\n",
    "for step in steps:\n",
    "    command, output = step[0], step[1:]  # unpack command and output\n",
    "\n",
    "    files = file_system.setdefault(tuple(current_path), [])  # placeholder to collect files\n",
    "\n",
    "    # (1) Change directory command\n",
    "    if command.startswith(\"cd\"):\n",
    "        cd, dir = command.split()\n",
    "        if dir == \"..\":\n",
    "            # Move out one level\n",
    "            current_path.pop()\n",
    "        elif dir == \"/\":\n",
    "            # Move to root\n",
    "            current_path = [\"/\"]\n",
    "        else:\n",
    "            # Move in one level\n",
    "            current_path.append(dir)\n",
    "    # (2) List directory command\n",
    "    else:\n",
    "        for o in output:\n",
    "            parts = o.split()\n",
    "            # Collect file sizes\n",
    "            if parts[0] != \"dir\":\n",
    "                size, name = parts\n",
    "                files.append(int(size))"
   ]
  },
  {
   "cell_type": "code",
   "execution_count": null,
   "metadata": {},
   "outputs": [],
   "source": [
    "# Calculate initial directory sizes\n",
    "dir_sizes = {\n",
    "    p: sum(files)\n",
    "    for p, files in file_system.items()\n",
    "}\n",
    "\n",
    "# Add sum of nested file sizes\n",
    "for dir, size in dir_sizes.items():\n",
    "    n = len(dir)\n",
    "    nested_dirs = [k for k in dir_sizes.keys() if k[:n] == dir and k != dir]\n",
    "    for nested_dir in nested_dirs:\n",
    "        dir_sizes[dir] += dir_sizes[nested_dir]"
   ]
  },
  {
   "cell_type": "code",
   "execution_count": null,
   "metadata": {},
   "outputs": [],
   "source": [
    "cutoff = 100000\n",
    "\n",
    "sum([size for _, size in dir_sizes.items() if size <= cutoff])"
   ]
  },
  {
   "cell_type": "markdown",
   "metadata": {},
   "source": [
    "# Solution 2"
   ]
  },
  {
   "cell_type": "code",
   "execution_count": null,
   "metadata": {},
   "outputs": [],
   "source": [
    "total_space = 70000000\n",
    "target_free_space = 30000000\n",
    "\n",
    "used_space = dir_sizes[(\"/\",)]\n",
    "free_space = total_space - used_space\n",
    "\n",
    "needed_space = target_free_space - free_space"
   ]
  },
  {
   "cell_type": "code",
   "execution_count": null,
   "metadata": {},
   "outputs": [],
   "source": [
    "sorted([size for dir, size in dir_sizes.items() if size >= needed_space])[0]"
   ]
  }
 ],
 "metadata": {
  "kernelspec": {
   "display_name": "Python 3.10.2 64-bit",
   "language": "python",
   "name": "python3"
  },
  "language_info": {
   "codemirror_mode": {
    "name": "ipython",
    "version": 3
   },
   "file_extension": ".py",
   "mimetype": "text/x-python",
   "name": "python",
   "nbconvert_exporter": "python",
   "pygments_lexer": "ipython3",
   "version": "3.10.2"
  },
  "orig_nbformat": 4,
  "vscode": {
   "interpreter": {
    "hash": "369f2c481f4da34e4445cda3fffd2e751bd1c4d706f27375911949ba6bb62e1c"
   }
  }
 },
 "nbformat": 4,
 "nbformat_minor": 2
}
