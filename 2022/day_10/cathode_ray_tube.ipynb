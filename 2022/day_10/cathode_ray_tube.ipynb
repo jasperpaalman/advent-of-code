{
 "cells": [
  {
   "attachments": {},
   "cell_type": "markdown",
   "metadata": {},
   "source": [
    "# Imports"
   ]
  },
  {
   "attachments": {},
   "cell_type": "markdown",
   "metadata": {},
   "source": [
    "# Input"
   ]
  },
  {
   "cell_type": "code",
   "execution_count": null,
   "metadata": {},
   "outputs": [],
   "source": [
    "def load_input(input_path):\n",
    "    with open(input_path, \"r\") as fb:\n",
    "        data = fb.read()\n",
    "    return [line.split() for line in data.splitlines()]"
   ]
  },
  {
   "attachments": {},
   "cell_type": "markdown",
   "metadata": {},
   "source": [
    "# Solution 1"
   ]
  },
  {
   "cell_type": "code",
   "execution_count": null,
   "metadata": {},
   "outputs": [],
   "source": [
    "def construct_add_list(lines):\n",
    "    add_list = []\n",
    "    for line in lines:\n",
    "        if line[0] == \"noop\":\n",
    "            add_list.append(None)\n",
    "            continue\n",
    "        \n",
    "        add, value = line\n",
    "        value = int(value)\n",
    "\n",
    "        add_list.extend([None, value])    \n",
    "    return add_list"
   ]
  },
  {
   "cell_type": "code",
   "execution_count": null,
   "metadata": {},
   "outputs": [],
   "source": [
    "add_list = construct_add_list(load_input(\"input.txt\"))"
   ]
  },
  {
   "cell_type": "code",
   "execution_count": null,
   "metadata": {},
   "outputs": [],
   "source": [
    "x = 1\n",
    "solution1 = 0\n",
    "marked_cycles = [20, 60, 100, 140, 180, 220]\n",
    "for cycle, value in enumerate(add_list, start=1):\n",
    "    if cycle in marked_cycles:\n",
    "        solution1 += cycle * x\n",
    "    if value:\n",
    "        x += value"
   ]
  },
  {
   "cell_type": "code",
   "execution_count": null,
   "metadata": {},
   "outputs": [],
   "source": [
    "solution1"
   ]
  },
  {
   "attachments": {},
   "cell_type": "markdown",
   "metadata": {},
   "source": [
    "# Solution 2"
   ]
  },
  {
   "cell_type": "code",
   "execution_count": null,
   "metadata": {},
   "outputs": [],
   "source": [
    "x = 1\n",
    "screen = \"\"\n",
    "for cycle, value in enumerate(add_list, start=0):\n",
    "    if abs((cycle % 40) - x) <= 1:\n",
    "        screen += \"#\"\n",
    "    else:\n",
    "        screen += \".\"\n",
    "\n",
    "    if value:\n",
    "        x += value"
   ]
  },
  {
   "cell_type": "code",
   "execution_count": null,
   "metadata": {},
   "outputs": [],
   "source": [
    "for row in [screen[i: i+40] for i in range(0, len(screen), 40)]:\n",
    "    print(row)"
   ]
  }
 ],
 "metadata": {
  "kernelspec": {
   "display_name": ".venv",
   "language": "python",
   "name": "python3"
  },
  "language_info": {
   "codemirror_mode": {
    "name": "ipython",
    "version": 3
   },
   "file_extension": ".py",
   "mimetype": "text/x-python",
   "name": "python",
   "nbconvert_exporter": "python",
   "pygments_lexer": "ipython3",
   "version": "3.10.2"
  },
  "orig_nbformat": 4,
  "vscode": {
   "interpreter": {
    "hash": "724981badb0a4de16b25c830c861b7694fe027bd927209b078d090af3921a624"
   }
  }
 },
 "nbformat": 4,
 "nbformat_minor": 2
}
