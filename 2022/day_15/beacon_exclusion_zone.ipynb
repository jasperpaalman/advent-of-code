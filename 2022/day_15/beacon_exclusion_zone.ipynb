{
 "cells": [
  {
   "attachments": {},
   "cell_type": "markdown",
   "metadata": {},
   "source": [
    "# Imports"
   ]
  },
  {
   "cell_type": "code",
   "execution_count": null,
   "metadata": {},
   "outputs": [],
   "source": [
    "import re\n",
    "from itertools import chain\n",
    "import multirange as mr"
   ]
  },
  {
   "attachments": {},
   "cell_type": "markdown",
   "metadata": {},
   "source": [
    "# Input"
   ]
  },
  {
   "cell_type": "code",
   "execution_count": null,
   "metadata": {},
   "outputs": [],
   "source": [
    "def load_input(input_path):\n",
    "    with open(input_path, \"r\") as fb:\n",
    "        data = fb.read()\n",
    "        lines = [list(map(int, re.findall(r\"\\-?\\d+\", line))) for line in data.splitlines()]\n",
    "        lines = [[(line[0], line[1]), (line[2], line[3])]for line in lines]\n",
    "    return lines"
   ]
  },
  {
   "cell_type": "code",
   "execution_count": null,
   "metadata": {},
   "outputs": [],
   "source": [
    "test_lines = load_input(\"test.txt\")\n",
    "lines = load_input(\"input.txt\")"
   ]
  },
  {
   "attachments": {},
   "cell_type": "markdown",
   "metadata": {},
   "source": [
    "# Functions"
   ]
  },
  {
   "cell_type": "code",
   "execution_count": null,
   "metadata": {},
   "outputs": [],
   "source": [
    "def range_with_stop(start, stop, step=1):\n",
    "    if start > stop:\n",
    "        return range(stop, start + step, step)\n",
    "    return range(start, stop + step, step)"
   ]
  },
  {
   "cell_type": "code",
   "execution_count": null,
   "metadata": {},
   "outputs": [],
   "source": [
    "def manhattan(a, b):\n",
    "    return sum(abs(val1-val2) for val1, val2 in zip(a,b))"
   ]
  },
  {
   "cell_type": "code",
   "execution_count": null,
   "metadata": {},
   "outputs": [],
   "source": [
    "def get_covered_ranges(lines, row):\n",
    "    ranges = []\n",
    "    for sensor, beacon in lines:\n",
    "        distance = manhattan(sensor, beacon)\n",
    "        distance_to_row = abs(row - sensor[1])\n",
    "        \n",
    "        if distance_to_row > distance:\n",
    "            continue\n",
    "\n",
    "        deviation_to_sides = distance - distance_to_row\n",
    "\n",
    "        x, y = sensor\n",
    "\n",
    "        ranges.append(range_with_stop(x, x + deviation_to_sides))\n",
    "        ranges.append(range_with_stop(x, x - deviation_to_sides))\n",
    "\n",
    "    return ranges"
   ]
  },
  {
   "cell_type": "code",
   "execution_count": null,
   "metadata": {},
   "outputs": [],
   "source": [
    "def part1(lines, row):\n",
    "    # Get covered x coordinates as set\n",
    "    covered = set()\n",
    "    for r in get_covered_ranges(lines, row):\n",
    "        range_set = set(r)\n",
    "        covered.update(range_set)\n",
    "\n",
    "    # Remove all beacons\n",
    "    sensors, beacons = zip(*lines)\n",
    "\n",
    "    for beacon in beacons:\n",
    "        x, y = beacon\n",
    "        if y == row and x in covered:\n",
    "            covered.remove(x)\n",
    "\n",
    "    # Return number of covered positions\n",
    "    return len(covered)"
   ]
  },
  {
   "cell_type": "code",
   "execution_count": null,
   "metadata": {},
   "outputs": [],
   "source": [
    "def part2(lines, lower_bound, upper_bound):\n",
    "    for row in range(lower_bound, upper_bound + 1):\n",
    "        ranges = get_covered_ranges(lines, row)\n",
    "        normalized = mr.normalize_multi(ranges)\n",
    "        diff = list(mr.difference_one_multi(range(lower_bound, upper_bound + 1), normalized))\n",
    "        if diff:\n",
    "            return (diff[0].start * 4000000) + row"
   ]
  },
  {
   "attachments": {},
   "cell_type": "markdown",
   "metadata": {},
   "source": [
    "# Test 1"
   ]
  },
  {
   "cell_type": "code",
   "execution_count": null,
   "metadata": {},
   "outputs": [],
   "source": [
    "part1(test_lines, row=10)"
   ]
  },
  {
   "attachments": {},
   "cell_type": "markdown",
   "metadata": {},
   "source": [
    "# Solution 1"
   ]
  },
  {
   "cell_type": "code",
   "execution_count": null,
   "metadata": {},
   "outputs": [],
   "source": [
    "part1(lines, row=2000000)"
   ]
  },
  {
   "attachments": {},
   "cell_type": "markdown",
   "metadata": {},
   "source": [
    "# Test 2"
   ]
  },
  {
   "cell_type": "code",
   "execution_count": null,
   "metadata": {},
   "outputs": [],
   "source": [
    "part2(test_lines, 0, 20)"
   ]
  },
  {
   "attachments": {},
   "cell_type": "markdown",
   "metadata": {},
   "source": [
    "# Solution 2"
   ]
  },
  {
   "cell_type": "code",
   "execution_count": null,
   "metadata": {},
   "outputs": [],
   "source": [
    "part2(lines, 0, 4000000)"
   ]
  }
 ],
 "metadata": {
  "kernelspec": {
   "display_name": ".venv",
   "language": "python",
   "name": "python3"
  },
  "language_info": {
   "codemirror_mode": {
    "name": "ipython",
    "version": 3
   },
   "file_extension": ".py",
   "mimetype": "text/x-python",
   "name": "python",
   "nbconvert_exporter": "python",
   "pygments_lexer": "ipython3",
   "version": "3.10.2 (tags/v3.10.2:a58ebcc, Jan 17 2022, 14:12:15) [MSC v.1929 64 bit (AMD64)]"
  },
  "orig_nbformat": 4,
  "vscode": {
   "interpreter": {
    "hash": "724981badb0a4de16b25c830c861b7694fe027bd927209b078d090af3921a624"
   }
  }
 },
 "nbformat": 4,
 "nbformat_minor": 2
}
