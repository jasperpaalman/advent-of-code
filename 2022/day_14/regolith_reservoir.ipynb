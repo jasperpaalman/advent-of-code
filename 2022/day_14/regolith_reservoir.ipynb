{
 "cells": [
  {
   "attachments": {},
   "cell_type": "markdown",
   "metadata": {},
   "source": [
    "# Imports"
   ]
  },
  {
   "cell_type": "code",
   "execution_count": null,
   "metadata": {},
   "outputs": [],
   "source": [
    "import numpy as np\n",
    "from ast import literal_eval\n",
    "from itertools import chain\n",
    "from copy import deepcopy"
   ]
  },
  {
   "attachments": {},
   "cell_type": "markdown",
   "metadata": {},
   "source": [
    "# Input"
   ]
  },
  {
   "cell_type": "code",
   "execution_count": null,
   "metadata": {},
   "outputs": [],
   "source": [
    "def load_input(input_path):\n",
    "    with open(input_path, \"r\") as fb:\n",
    "        data = fb.read()\n",
    "    lines = [[literal_eval(coord) for coord in line.split('->')] for line in data.splitlines()]\n",
    "    return lines"
   ]
  },
  {
   "cell_type": "code",
   "execution_count": null,
   "metadata": {},
   "outputs": [],
   "source": [
    "test_lines = load_input(\"test.txt\")\n",
    "lines = load_input(\"input.txt\")"
   ]
  },
  {
   "attachments": {},
   "cell_type": "markdown",
   "metadata": {},
   "source": [
    "# Functions"
   ]
  },
  {
   "cell_type": "code",
   "execution_count": null,
   "metadata": {},
   "outputs": [],
   "source": [
    "def range_with_stop(start, stop, step=1):\n",
    "    if start > stop:\n",
    "        return reversed(range(stop, start + step, step))\n",
    "    return range(start, stop + step, step)"
   ]
  },
  {
   "cell_type": "code",
   "execution_count": null,
   "metadata": {},
   "outputs": [],
   "source": [
    "def create_empty_grid(lines, add_bottom):\n",
    "    covered_x_coords, covered_y_coords = zip(*chain.from_iterable(lines))\n",
    "\n",
    "    max_x = max(covered_x_coords)\n",
    "    max_y = max(covered_y_coords)\n",
    "\n",
    "    if add_bottom:\n",
    "        max_y += 2\n",
    "        max_x += 999\n",
    "\n",
    "    grid = np.array([[\".\"] * (max_x + 1)] * (max_y + 1))\n",
    "\n",
    "    if add_bottom:\n",
    "        grid[-1, :] = \"#\"\n",
    "\n",
    "    return grid"
   ]
  },
  {
   "cell_type": "code",
   "execution_count": null,
   "metadata": {},
   "outputs": [],
   "source": [
    "def get_indices_between(coord1, coord2):\n",
    "    x1, y1 = coord1\n",
    "    x2, y2 = coord2\n",
    "\n",
    "    if x1 == x2:\n",
    "        return [(i, x1) for i in range_with_stop(y1, y2)]\n",
    "    return [(y1, i) for i in range_with_stop(x1, x2)]"
   ]
  },
  {
   "cell_type": "code",
   "execution_count": null,
   "metadata": {},
   "outputs": [],
   "source": [
    "def populate_empty_grid(grid, lines):\n",
    "    for line in lines:\n",
    "        for coord1, coord2 in zip(line, line[1:]):\n",
    "            indices = get_indices_between(coord1, coord2)\n",
    "            for index in indices:\n",
    "                grid[index] = \"#\"\n",
    "    return grid"
   ]
  },
  {
   "cell_type": "code",
   "execution_count": null,
   "metadata": {},
   "outputs": [],
   "source": [
    "def create_grid(lines, add_bottom):\n",
    "    grid = create_empty_grid(lines, add_bottom)\n",
    "    grid = populate_empty_grid(grid, lines)\n",
    "    return grid"
   ]
  },
  {
   "cell_type": "code",
   "execution_count": null,
   "metadata": {},
   "outputs": [],
   "source": [
    "def pretty_print(grid):\n",
    "    mask = ~(grid[:-1, :] == \".\").all(axis=0)\n",
    "    for row in grid[:, mask]:\n",
    "        print(\"\".join(row))"
   ]
  },
  {
   "cell_type": "code",
   "execution_count": null,
   "metadata": {},
   "outputs": [],
   "source": [
    "def simulate_sand(lines, add_bottom=False, starting_index=(0, 500)):\n",
    "    grid = create_grid(lines, add_bottom)\n",
    "\n",
    "    solution = 0\n",
    "\n",
    "    while True:\n",
    "        index = starting_index\n",
    "        while True:\n",
    "            row, col = index\n",
    "\n",
    "            down = (row + 1, col)\n",
    "            diag_left = (row + 1, col - 1)\n",
    "            diag_right = (row + 1, col + 1)\n",
    "\n",
    "            new_index = False\n",
    "            for option in [down, diag_left, diag_right]:\n",
    "                try:\n",
    "                    if grid[option] == \".\":\n",
    "                        index = option\n",
    "                        new_index = True\n",
    "                        break\n",
    "                except IndexError:\n",
    "                    continue\n",
    "\n",
    "            if not new_index:\n",
    "                grid[index] = \"o\"\n",
    "                break\n",
    "        \n",
    "        no_change = index == starting_index\n",
    "        reached_bottom = index[0] == grid.shape[0] - 1\n",
    "\n",
    "        if reached_bottom:\n",
    "            break\n",
    "\n",
    "        solution += 1\n",
    "\n",
    "        if no_change:\n",
    "            break\n",
    "\n",
    "    pretty_print(grid)\n",
    "\n",
    "    return solution"
   ]
  },
  {
   "attachments": {},
   "cell_type": "markdown",
   "metadata": {},
   "source": [
    "# Test 1"
   ]
  },
  {
   "cell_type": "code",
   "execution_count": null,
   "metadata": {},
   "outputs": [],
   "source": [
    "simulate_sand(test_lines)"
   ]
  },
  {
   "attachments": {},
   "cell_type": "markdown",
   "metadata": {},
   "source": [
    "# Solution 1"
   ]
  },
  {
   "cell_type": "code",
   "execution_count": null,
   "metadata": {},
   "outputs": [],
   "source": [
    "simulate_sand(lines)"
   ]
  },
  {
   "attachments": {},
   "cell_type": "markdown",
   "metadata": {},
   "source": [
    "# Test 2"
   ]
  },
  {
   "cell_type": "code",
   "execution_count": null,
   "metadata": {},
   "outputs": [],
   "source": [
    "simulate_sand(test_lines, add_bottom=True)"
   ]
  },
  {
   "attachments": {},
   "cell_type": "markdown",
   "metadata": {},
   "source": [
    "# Solution 2"
   ]
  },
  {
   "cell_type": "code",
   "execution_count": null,
   "metadata": {},
   "outputs": [],
   "source": [
    "simulate_sand(lines, add_bottom=True)"
   ]
  }
 ],
 "metadata": {
  "kernelspec": {
   "display_name": "Python 3",
   "language": "python",
   "name": "python3"
  },
  "language_info": {
   "codemirror_mode": {
    "name": "ipython",
    "version": 3
   },
   "file_extension": ".py",
   "mimetype": "text/x-python",
   "name": "python",
   "nbconvert_exporter": "python",
   "pygments_lexer": "ipython3",
   "version": "3.10.6"
  },
  "orig_nbformat": 4,
  "vscode": {
   "interpreter": {
    "hash": "916dbcbb3f70747c44a77c7bcd40155683ae19c65e1c03b4aa3499c5328201f1"
   }
  }
 },
 "nbformat": 4,
 "nbformat_minor": 2
}
