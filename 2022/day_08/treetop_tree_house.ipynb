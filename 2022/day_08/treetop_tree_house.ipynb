{
 "cells": [
  {
   "cell_type": "markdown",
   "metadata": {},
   "source": [
    "# Imports"
   ]
  },
  {
   "cell_type": "code",
   "execution_count": null,
   "metadata": {},
   "outputs": [],
   "source": [
    "import numpy as np"
   ]
  },
  {
   "cell_type": "markdown",
   "metadata": {},
   "source": [
    "# Input"
   ]
  },
  {
   "cell_type": "code",
   "execution_count": null,
   "metadata": {},
   "outputs": [],
   "source": [
    "with open(\"input.txt\", \"r\") as fb:\n",
    "    data = fb.read()\n",
    "grid = np.array([[int(digit) for digit in list(line)] for line in data.splitlines()])\n",
    "n_rows, n_cols = grid.shape"
   ]
  },
  {
   "cell_type": "markdown",
   "metadata": {},
   "source": [
    "# Solution 1"
   ]
  },
  {
   "cell_type": "code",
   "execution_count": null,
   "metadata": {},
   "outputs": [],
   "source": [
    "solution1 = 0\n",
    "scenic_scores = {}\n",
    "\n",
    "for i in range(n_rows):\n",
    "    for j in range(n_cols):\n",
    "        value = grid[i, j]\n",
    "        \n",
    "        to_right = grid[i, j+1:]\n",
    "        to_left = grid[i, :j][::-1]\n",
    "        to_bottom = grid[i+1:, j]\n",
    "        to_top = grid[:i, j][::-1]\n",
    "\n",
    "        sides = [to_right, to_left, to_bottom, to_top]\n",
    "\n",
    "        # Part 1\n",
    "        for side in sides:\n",
    "            if all(digit < value  for digit in side):\n",
    "                solution1 += 1\n",
    "                break\n",
    "\n",
    "        # Part 2\n",
    "        scenic_score = 1\n",
    "        for side in sides:\n",
    "            count = 0\n",
    "            for n, digit in enumerate(side, start=1):\n",
    "                if digit >= value or n == len(side):\n",
    "                    count += 1\n",
    "                    scenic_score *= count\n",
    "                    break\n",
    "                else:\n",
    "                    count += 1\n",
    "        scenic_scores[(i, j)] = scenic_score"
   ]
  },
  {
   "cell_type": "code",
   "execution_count": null,
   "metadata": {},
   "outputs": [],
   "source": [
    "solution1"
   ]
  },
  {
   "cell_type": "markdown",
   "metadata": {},
   "source": [
    "# Solution 2"
   ]
  },
  {
   "cell_type": "code",
   "execution_count": null,
   "metadata": {},
   "outputs": [],
   "source": [
    "sorted(scenic_scores.items(), key=lambda x: x[1], reverse=True)[0][-1]"
   ]
  }
 ],
 "metadata": {
  "kernelspec": {
   "display_name": "Python 3.10.2 ('.venv': venv)",
   "language": "python",
   "name": "python3"
  },
  "language_info": {
   "codemirror_mode": {
    "name": "ipython",
    "version": 3
   },
   "file_extension": ".py",
   "mimetype": "text/x-python",
   "name": "python",
   "nbconvert_exporter": "python",
   "pygments_lexer": "ipython3",
   "version": "3.10.2"
  },
  "orig_nbformat": 4,
  "vscode": {
   "interpreter": {
    "hash": "724981badb0a4de16b25c830c861b7694fe027bd927209b078d090af3921a624"
   }
  }
 },
 "nbformat": 4,
 "nbformat_minor": 2
}
