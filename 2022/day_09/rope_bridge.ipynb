{
 "cells": [
  {
   "attachments": {},
   "cell_type": "markdown",
   "metadata": {},
   "source": [
    "# Imports"
   ]
  },
  {
   "cell_type": "code",
   "execution_count": null,
   "metadata": {},
   "outputs": [],
   "source": [
    "import numpy as np"
   ]
  },
  {
   "attachments": {},
   "cell_type": "markdown",
   "metadata": {},
   "source": [
    "# Input"
   ]
  },
  {
   "cell_type": "code",
   "execution_count": null,
   "metadata": {},
   "outputs": [],
   "source": [
    "with open(\"input.txt\", \"r\") as fb:\n",
    "    data = fb.read()\n",
    "lines = [line.split() for line in data.splitlines()]\n",
    "directions = [[direction, int(n_steps)] for direction, n_steps in lines]"
   ]
  },
  {
   "attachments": {},
   "cell_type": "markdown",
   "metadata": {},
   "source": [
    "# Functions"
   ]
  },
  {
   "cell_type": "code",
   "execution_count": null,
   "metadata": {},
   "outputs": [],
   "source": [
    "def move_in_direction(pos, direction):\n",
    "    if direction == \"U\":\n",
    "        pos[0] -= 1\n",
    "    elif direction == \"D\":\n",
    "        pos[0] += 1\n",
    "    elif direction == \"L\":\n",
    "        pos[1] -= 1\n",
    "    elif direction == \"R\":\n",
    "        pos[1] += 1"
   ]
  },
  {
   "cell_type": "code",
   "execution_count": null,
   "metadata": {},
   "outputs": [],
   "source": [
    "def points_touching(point1, point2):\n",
    "    return all([abs(a - b) <= 1 for a, b in zip(point1, point2)])"
   ]
  },
  {
   "cell_type": "code",
   "execution_count": null,
   "metadata": {},
   "outputs": [],
   "source": [
    "def move_with_point(pos, reference_pos):\n",
    "    coord_diffs = [b - a for a, b in zip(pos, reference_pos)]\n",
    "    for n, diff in enumerate(coord_diffs):\n",
    "        if diff == 0:\n",
    "            continue\n",
    "        elif diff > 0:\n",
    "            corrected_diff = 1\n",
    "        else:\n",
    "            corrected_diff = -1\n",
    "\n",
    "        pos[n] += corrected_diff\n",
    "    return pos"
   ]
  },
  {
   "cell_type": "code",
   "execution_count": null,
   "metadata": {},
   "outputs": [],
   "source": [
    "def update_position(pos, reference_pos):\n",
    "    # Do nothing if points touching\n",
    "    if points_touching(pos, reference_pos):\n",
    "        return\n",
    "    # Else move with point\n",
    "    else:\n",
    "        move_with_point(pos, reference_pos)"
   ]
  },
  {
   "cell_type": "code",
   "execution_count": null,
   "metadata": {},
   "outputs": [],
   "source": [
    "def print_positions(positions, grid_size):\n",
    "    grid = np.array([[\".\"] * grid_size] * grid_size)\n",
    "    \n",
    "    n_positions = len(positions)\n",
    "    markers = [\"H\"] + list(map(str, range(1, n_positions)))\n",
    "\n",
    "    for marker, (pos_x, pos_y) in zip(markers, positions):\n",
    "        # print(grid[pos_x][pos_y])\n",
    "        grid[pos_x][pos_y] = marker\n",
    "\n",
    "    print()\n",
    "    for row in grid:\n",
    "        print(\"\".join(row))\n",
    "    print()"
   ]
  },
  {
   "attachments": {},
   "cell_type": "markdown",
   "metadata": {},
   "source": [
    "# Solution 1"
   ]
  },
  {
   "cell_type": "code",
   "execution_count": null,
   "metadata": {},
   "outputs": [],
   "source": [
    "def simulate_rope(size, directions, grid_size=1000, verbose=False):\n",
    "    end_tail_covered = set()\n",
    "\n",
    "    middle = grid_size // 2\n",
    "    positions = [[middle, middle] for _ in range(size)]\n",
    "\n",
    "    for direction, n_steps in directions:\n",
    "        if verbose:\n",
    "            print(f\"Direct {direction}{n_steps}\")\n",
    "        for _ in range(n_steps):\n",
    "            move_in_direction(positions[0], direction)\n",
    "            for i in range(1, size):\n",
    "                update_position(pos=positions[i], reference_pos=positions[i - 1])\n",
    "            end_tail_covered.add(tuple(positions[-1]))\n",
    "\n",
    "        if verbose:\n",
    "            print_positions(positions, grid_size=grid_size)\n",
    "\n",
    "    return end_tail_covered"
   ]
  },
  {
   "cell_type": "code",
   "execution_count": null,
   "metadata": {},
   "outputs": [],
   "source": [
    "end_tail_covered = simulate_rope(2, directions)\n",
    "len(end_tail_covered)"
   ]
  },
  {
   "attachments": {},
   "cell_type": "markdown",
   "metadata": {},
   "source": [
    "# Test simulation"
   ]
  },
  {
   "cell_type": "code",
   "execution_count": null,
   "metadata": {},
   "outputs": [],
   "source": [
    "test_directions = [\n",
    "    [\"R\", 5],\n",
    "    [\"U\", 8],\n",
    "    [\"L\", 8],\n",
    "    [\"D\", 3],\n",
    "    [\"R\", 17],\n",
    "    [\"D\", 10],\n",
    "    [\"L\", 25],\n",
    "    [\"U\", 20]\n",
    "]"
   ]
  },
  {
   "cell_type": "code",
   "execution_count": null,
   "metadata": {},
   "outputs": [],
   "source": [
    "simulate_rope(10, directions=test_directions, grid_size=40, verbose=True)"
   ]
  },
  {
   "attachments": {},
   "cell_type": "markdown",
   "metadata": {},
   "source": [
    "# Solution 2"
   ]
  },
  {
   "cell_type": "code",
   "execution_count": null,
   "metadata": {},
   "outputs": [],
   "source": [
    "end_tail_covered = simulate_rope(10, directions)\n",
    "len(end_tail_covered)"
   ]
  }
 ],
 "metadata": {
  "kernelspec": {
   "display_name": "Python 3.10.2 ('.venv': venv)",
   "language": "python",
   "name": "python3"
  },
  "language_info": {
   "codemirror_mode": {
    "name": "ipython",
    "version": 3
   },
   "file_extension": ".py",
   "mimetype": "text/x-python",
   "name": "python",
   "nbconvert_exporter": "python",
   "pygments_lexer": "ipython3",
   "version": "3.10.2"
  },
  "orig_nbformat": 4,
  "vscode": {
   "interpreter": {
    "hash": "724981badb0a4de16b25c830c861b7694fe027bd927209b078d090af3921a624"
   }
  }
 },
 "nbformat": 4,
 "nbformat_minor": 2
}
