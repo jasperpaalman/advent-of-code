{
 "cells": [
  {
   "attachments": {},
   "cell_type": "markdown",
   "metadata": {},
   "source": [
    "# Imports"
   ]
  },
  {
   "cell_type": "code",
   "execution_count": null,
   "metadata": {},
   "outputs": [],
   "source": [
    "from ast import literal_eval\n",
    "from itertools import zip_longest\n",
    "from functools import cmp_to_key, reduce"
   ]
  },
  {
   "attachments": {},
   "cell_type": "markdown",
   "metadata": {},
   "source": [
    "# Input"
   ]
  },
  {
   "cell_type": "code",
   "execution_count": null,
   "metadata": {},
   "outputs": [],
   "source": [
    "def load_input(input_path):\n",
    "    with open(input_path, \"r\") as fb:\n",
    "        data = fb.read()\n",
    "        pairs = [[literal_eval(p) for p in pair.split(\"\\n\")] for pair in data.split(\"\\n\\n\")]\n",
    "    return pairs"
   ]
  },
  {
   "cell_type": "code",
   "execution_count": null,
   "metadata": {},
   "outputs": [],
   "source": [
    "pairs = load_input(\"input.txt\")\n",
    "test_pairs = load_input(\"test.txt\")"
   ]
  },
  {
   "attachments": {},
   "cell_type": "markdown",
   "metadata": {},
   "source": [
    "# Functions"
   ]
  },
  {
   "cell_type": "code",
   "execution_count": null,
   "metadata": {},
   "outputs": [],
   "source": [
    "def compare_pair(item1, item2):\n",
    "    zipped_pair = list(zip_longest(item1, item2))\n",
    "    while True:\n",
    "        a, b = zipped_pair.pop(0)\n",
    "        \n",
    "        if isinstance(a, int) and isinstance(b, int):\n",
    "            if a < b:\n",
    "                return 1\n",
    "            elif a > b:\n",
    "                return -1\n",
    "        elif a is None or b is None:\n",
    "            if a is None:\n",
    "                return 1\n",
    "            return -1\n",
    "        else:\n",
    "            if isinstance(a, int):\n",
    "                a = [a]\n",
    "            if isinstance(b, int):\n",
    "                b = [b]\n",
    "            zipped_pair = list(zip_longest(a, b)) + zipped_pair"
   ]
  },
  {
   "cell_type": "code",
   "execution_count": null,
   "metadata": {},
   "outputs": [],
   "source": [
    "def compare_pairs(pairs):\n",
    "    solution = 0\n",
    "    for n, pair in enumerate(pairs, start=1):\n",
    "        if compare_pair(*pair) == 1:\n",
    "            solution += n\n",
    "    return solution"
   ]
  },
  {
   "attachments": {},
   "cell_type": "markdown",
   "metadata": {},
   "source": [
    "# Test 1"
   ]
  },
  {
   "cell_type": "code",
   "execution_count": null,
   "metadata": {},
   "outputs": [],
   "source": [
    "compare_pairs(test_pairs)"
   ]
  },
  {
   "attachments": {},
   "cell_type": "markdown",
   "metadata": {},
   "source": [
    "# Solution 1"
   ]
  },
  {
   "cell_type": "code",
   "execution_count": null,
   "metadata": {},
   "outputs": [],
   "source": [
    "compare_pairs(pairs)"
   ]
  },
  {
   "attachments": {},
   "cell_type": "markdown",
   "metadata": {},
   "source": [
    "# Solution 2"
   ]
  },
  {
   "cell_type": "code",
   "execution_count": null,
   "metadata": {},
   "outputs": [],
   "source": [
    "divider_packets = [[[2]], [[6]]]\n",
    "all_packets = [p for pair in pairs for p in pair] + divider_packets"
   ]
  },
  {
   "cell_type": "code",
   "execution_count": null,
   "metadata": {},
   "outputs": [],
   "source": [
    "all_packets.sort(key=cmp_to_key(compare_pair), reverse=True)"
   ]
  },
  {
   "cell_type": "code",
   "execution_count": null,
   "metadata": {},
   "outputs": [],
   "source": [
    "reduce(lambda x1, x2: x1 * x2, [all_packets.index(packet) + 1 for packet in divider_packets])"
   ]
  }
 ],
 "metadata": {
  "kernelspec": {
   "display_name": ".venv",
   "language": "python",
   "name": "python3"
  },
  "language_info": {
   "codemirror_mode": {
    "name": "ipython",
    "version": 3
   },
   "file_extension": ".py",
   "mimetype": "text/x-python",
   "name": "python",
   "nbconvert_exporter": "python",
   "pygments_lexer": "ipython3",
   "version": "3.10.6"
  },
  "vscode": {
   "interpreter": {
    "hash": "b6e7581a70162f06f91b3f3bab75890c7be59b7276b31565c415d4f8fe5879c9"
   }
  }
 },
 "nbformat": 4,
 "nbformat_minor": 2
}
