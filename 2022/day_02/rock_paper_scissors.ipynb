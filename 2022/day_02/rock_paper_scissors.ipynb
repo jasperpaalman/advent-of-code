{
 "cells": [
  {
   "cell_type": "markdown",
   "metadata": {},
   "source": [
    "# Imports"
   ]
  },
  {
   "cell_type": "code",
   "execution_count": null,
   "metadata": {},
   "outputs": [],
   "source": [
    "from enum import Enum"
   ]
  },
  {
   "cell_type": "markdown",
   "metadata": {},
   "source": [
    "# Input"
   ]
  },
  {
   "cell_type": "code",
   "execution_count": null,
   "metadata": {},
   "outputs": [],
   "source": [
    "with open(\"input.txt\", \"r\") as fb:\n",
    "    data = fb.read()\n",
    "    lines = data.splitlines()\n",
    "    strategy = [line.split() for line in lines]"
   ]
  },
  {
   "cell_type": "markdown",
   "metadata": {},
   "source": [
    "# General"
   ]
  },
  {
   "cell_type": "code",
   "execution_count": null,
   "metadata": {},
   "outputs": [],
   "source": [
    "class OpponentsChoice(str, Enum):\n",
    "    ROCK = \"A\"\n",
    "    PAPER = \"B\"\n",
    "    SCISSORS = \"C\""
   ]
  },
  {
   "cell_type": "code",
   "execution_count": null,
   "metadata": {},
   "outputs": [],
   "source": [
    "class MyChoice(str, Enum):\n",
    "    ROCK = \"X\"\n",
    "    PAPER = \"Y\"\n",
    "    SCISSORS = \"Z\""
   ]
  },
  {
   "cell_type": "code",
   "execution_count": null,
   "metadata": {},
   "outputs": [],
   "source": [
    "class Outcome:\n",
    "    LOSE = 0\n",
    "    DRAW = 3\n",
    "    WIN = 6"
   ]
  },
  {
   "cell_type": "code",
   "execution_count": null,
   "metadata": {},
   "outputs": [],
   "source": [
    "choice_score_mapping = {\n",
    "    MyChoice.ROCK: 1,\n",
    "    MyChoice.PAPER: 2,\n",
    "    MyChoice.SCISSORS: 3\n",
    "}"
   ]
  },
  {
   "cell_type": "code",
   "execution_count": null,
   "metadata": {},
   "outputs": [],
   "source": [
    "outcome_score_mapping = {\n",
    "    OpponentsChoice.ROCK: {\n",
    "        MyChoice.ROCK: Outcome.DRAW,\n",
    "        MyChoice.PAPER: Outcome.WIN,\n",
    "        MyChoice.SCISSORS: Outcome.LOSE\n",
    "    },\n",
    "     OpponentsChoice.PAPER: {\n",
    "        MyChoice.ROCK: Outcome.LOSE,\n",
    "        MyChoice.PAPER: Outcome.DRAW,\n",
    "        MyChoice.SCISSORS: Outcome.WIN\n",
    "    },\n",
    "    OpponentsChoice.SCISSORS: {\n",
    "        MyChoice.ROCK: Outcome.WIN,\n",
    "        MyChoice.PAPER: Outcome.LOSE,\n",
    "        MyChoice.SCISSORS: Outcome.DRAW\n",
    "    }\n",
    "}"
   ]
  },
  {
   "cell_type": "markdown",
   "metadata": {},
   "source": [
    "# Solution 1"
   ]
  },
  {
   "cell_type": "code",
   "execution_count": null,
   "metadata": {},
   "outputs": [],
   "source": [
    "score = 0\n",
    "for opponent, me in strategy:\n",
    "    score += choice_score_mapping[me]\n",
    "    score += outcome_score_mapping[opponent][me]"
   ]
  },
  {
   "cell_type": "code",
   "execution_count": null,
   "metadata": {},
   "outputs": [],
   "source": [
    "score"
   ]
  },
  {
   "cell_type": "markdown",
   "metadata": {},
   "source": [
    "# Solution 2"
   ]
  },
  {
   "cell_type": "code",
   "execution_count": null,
   "metadata": {},
   "outputs": [],
   "source": [
    "class MyChoice2(str, Enum):\n",
    "    LOSE = \"X\"\n",
    "    DRAW = \"Y\"\n",
    "    WIN = \"Z\""
   ]
  },
  {
   "cell_type": "code",
   "execution_count": null,
   "metadata": {},
   "outputs": [],
   "source": [
    "score = 0\n",
    "for opponent, action in strategy:\n",
    "    options = outcome_score_mapping[opponent]\n",
    "    if action == MyChoice2.LOSE:\n",
    "        me, code = next(filter(lambda x: x[1] == Outcome.LOSE, options.items()))\n",
    "    if action == MyChoice2.DRAW:\n",
    "        me, code = next(filter(lambda x: x[1] == Outcome.DRAW, options.items()))\n",
    "    if action == MyChoice2.WIN:\n",
    "        me, code = next(filter(lambda x: x[1] == Outcome.WIN, options.items()))\n",
    "    score += choice_score_mapping[me]\n",
    "    score += outcome_score_mapping[opponent][me]"
   ]
  },
  {
   "cell_type": "code",
   "execution_count": null,
   "metadata": {},
   "outputs": [],
   "source": [
    "score"
   ]
  }
 ],
 "metadata": {
  "kernelspec": {
   "display_name": "Python 3.10.2 ('.venv': venv)",
   "language": "python",
   "name": "python3"
  },
  "language_info": {
   "codemirror_mode": {
    "name": "ipython",
    "version": 3
   },
   "file_extension": ".py",
   "mimetype": "text/x-python",
   "name": "python",
   "nbconvert_exporter": "python",
   "pygments_lexer": "ipython3",
   "version": "3.10.2"
  },
  "orig_nbformat": 4,
  "vscode": {
   "interpreter": {
    "hash": "724981badb0a4de16b25c830c861b7694fe027bd927209b078d090af3921a624"
   }
  }
 },
 "nbformat": 4,
 "nbformat_minor": 2
}
